{
 "cells": [
  {
   "cell_type": "code",
   "execution_count": 64,
   "id": "0afbb50b-52d9-483b-9006-1cd9d719fecd",
   "metadata": {},
   "outputs": [
    {
     "name": "stdout",
     "output_type": "stream",
     "text": [
      "<class 'numpy.ndarray'>\n",
      "The time taken: 0:00:04.935001\n",
      "The time taken: 0:00:03.158807\n"
     ]
    }
   ],
   "source": [
    "#Sample Code:\n",
    "\n",
    "import numpy as np\n",
    "from datetime import datetime\n",
    "a = np.array([10,20,30])\n",
    "b = np.array([1,2,3])\n",
    "print(type(a))\n",
    "\n",
    "#dot product: 10x1+20x2+30x3=140\n",
    "\n",
    "\n",
    "#Traditional Python code to find dot product\n",
    "def dot_product(a,b):\n",
    "    result = 0\n",
    "    for m,n in zip(a,b):\n",
    "        result += m*n\n",
    "    return result\n",
    "    \n",
    "before = datetime.now()\n",
    "for i in range(1000000):\n",
    "    dot_product(a,b)\n",
    "after=datetime.now()\n",
    "print(\"The time taken:\",after-before)\n",
    "\n",
    "# Numpy Library code to find dot product\n",
    "before = datetime.now()\n",
    "for i in range(1000000):\n",
    "    np.dot(a,b)\n",
    "after=datetime.now()\n",
    "print(\"The time taken:\",after-before)"
   ]
  },
  {
   "cell_type": "code",
   "execution_count": 80,
   "id": "bd06c361-20ba-42bc-8bcf-e2df21ac4732",
   "metadata": {},
   "outputs": [
    {
     "name": "stdout",
     "output_type": "stream",
     "text": [
      "<class 'array.array'>\n",
      "array('i', [10, 20, 30])\n",
      "Element by element:\n",
      "10\n",
      "20\n",
      "30\n"
     ]
    }
   ],
   "source": [
    "import array\n",
    "a = array.array('i',[10,20,30]) # i represents int type array\n",
    "import math  # for understanding array.array like math.math\n",
    "x = math.sqrt(4)\n",
    "print(type(a))\n",
    "print(a)\n",
    "print(\"Element by element:\")\n",
    "for i in range(len(a)):\n",
    "    print(a[i])"
   ]
  },
  {
   "cell_type": "code",
   "execution_count": 82,
   "id": "9e156145-bb49-4e42-9e0d-02654af840e8",
   "metadata": {},
   "outputs": [
    {
     "name": "stdout",
     "output_type": "stream",
     "text": [
      "<class 'numpy.ndarray'>\n",
      "[10 20 30]\n",
      "Element one by one\n",
      "10\n",
      "20\n",
      "30\n"
     ]
    }
   ],
   "source": [
    "import numpy\n",
    "a = numpy.array([10,20,30])\n",
    "print(type(a))\n",
    "print(a)\n",
    "print(\"Element one by one\")\n",
    "for x in a:\n",
    "    print(x)"
   ]
  },
  {
   "cell_type": "code",
   "execution_count": 96,
   "id": "c0d8cd03-5928-4910-997b-5e2e818ca6e7",
   "metadata": {},
   "outputs": [
    {
     "name": "stdout",
     "output_type": "stream",
     "text": [
      "[10 20 30]\n",
      "[11 21 31]\n",
      "[20 40 60]\n",
      "[ 5. 10. 15.]\n",
      "[10, 20, 30]\n"
     ]
    }
   ],
   "source": [
    "import  numpy as np\n",
    "a = np.array([10,20,30])\n",
    "print(a)\n",
    "print(a+1)\n",
    "print(a*2)\n",
    "print(a/2)\n",
    "l=[10,20,30]\n",
    "print(l)\n",
    "#print(l+1) can only concatenate list (not \"int\") to list"
   ]
  },
  {
   "cell_type": "code",
   "execution_count": 100,
   "id": "62ec0340-3b24-420d-89e3-0be16f77c202",
   "metadata": {},
   "outputs": [
    {
     "name": "stdout",
     "output_type": "stream",
     "text": [
      "The size of numpy array: 216\n",
      "The size of list 168\n"
     ]
    }
   ],
   "source": [
    "import numpy\n",
    "import sys\n",
    "a = numpy.array([10,20,30,40,50,60,70,10,20,30,40,50,60,])\n",
    "l=[10,20,30,40,50,60,70,10,20,30,40,50,60,]\n",
    "print(\"The size of numpy array:\",sys.getsizeof(a))\n",
    "print(\"The size of list\", sys.getsizeof(l))"
   ]
  },
  {
   "cell_type": "code",
   "execution_count": null,
   "id": "af68ce32-c76e-4bb4-8560-42e0c50ae4f0",
   "metadata": {},
   "outputs": [],
   "source": []
  }
 ],
 "metadata": {
  "kernelspec": {
   "display_name": "Python 3 (ipykernel)",
   "language": "python",
   "name": "python3"
  },
  "language_info": {
   "codemirror_mode": {
    "name": "ipython",
    "version": 3
   },
   "file_extension": ".py",
   "mimetype": "text/x-python",
   "name": "python",
   "nbconvert_exporter": "python",
   "pygments_lexer": "ipython3",
   "version": "3.12.4"
  }
 },
 "nbformat": 4,
 "nbformat_minor": 5
}
